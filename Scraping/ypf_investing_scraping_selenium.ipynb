{
 "cells": [
  {
   "attachments": {},
   "cell_type": "markdown",
   "metadata": {},
   "source": [
    "# 26/04/2023"
   ]
  },
  {
   "cell_type": "code",
   "execution_count": 1,
   "metadata": {},
   "outputs": [],
   "source": [
    "from selenium import webdriver\n",
    "from selenium.webdriver.common.by import By\n",
    "from selenium.webdriver.common.keys import Keys\n",
    "from selenium.webdriver.chrome.service import Service\n",
    "from selenium.webdriver.support import expected_conditions as EC\n",
    "import pandas as pd\n",
    "\n",
    "# import mongo client to connect  \n",
    "#from pymongo import MongoClient \n",
    "#import pprint  \n",
    "\n",
    "import sqlite3\n",
    "\n",
    "from datetime import datetime"
   ]
  },
  {
   "cell_type": "code",
   "execution_count": 2,
   "metadata": {},
   "outputs": [],
   "source": [
    "#Opciones de navegacion\n",
    "\n",
    "options =  webdriver.ChromeOptions()\n",
    "options.add_argument('--start-maximized')\n",
    "options.add_argument('--disable-extensions')\n",
    "\n",
    "driver_path = Service(\"C:\\\\Users\\\\Tatu\\\\Downloads\\\\chromedriver_win32\\\\chromedriver.exe\")\n",
    "\n",
    "driver = webdriver.Chrome(service = driver_path, options = options)\n"
   ]
  },
  {
   "cell_type": "code",
   "execution_count": 3,
   "metadata": {},
   "outputs": [
    {
     "name": "stdout",
     "output_type": "stream",
     "text": [
      "Acciones YPF | Cotización BA:YPFD hoy - Investing.com\n"
     ]
    }
   ],
   "source": [
    "\n",
    "driver.get('https://es.investing.com/equities/ypf-sociedad')\n",
    "\n",
    "tit=driver.title\n",
    "print(tit)\n"
   ]
  },
  {
   "cell_type": "code",
   "execution_count": 4,
   "metadata": {},
   "outputs": [
    {
     "name": "stdout",
     "output_type": "stream",
     "text": [
      "2023-05-05 23:11:14.474165\n"
     ]
    }
   ],
   "source": [
    "# Insertar fecha y hora actual\n",
    "now = datetime.now()\n",
    "print(now)"
   ]
  },
  {
   "cell_type": "code",
   "execution_count": 5,
   "metadata": {},
   "outputs": [
    {
     "name": "stdout",
     "output_type": "stream",
     "text": [
      "Último cierre 4.768,75\n",
      "Mínimo 4.841\n",
      "Máximo 5.229,9\n",
      "Ingresos 2,53T\n",
      "Apertura 4.841\n",
      "Volumen 322.677\n",
      "Volumen promedio 304.817\n"
     ]
    }
   ],
   "source": [
    "ultimo_cierre = driver.find_element(By.XPATH, '/html/body/div/div[2]/div[2]/div/div[1]/div/div[5]/div[1]/dl[1]/div[1]/dd/span/span[1]')\n",
    "ultimo_cierre = ultimo_cierre.text\n",
    "print(\"Último cierre \" + ultimo_cierre)\n",
    "\n",
    "rango_min = driver.find_element(By.XPATH, '/html/body/div/div[2]/div[2]/div/div[1]/div/div[5]/div[1]/dl[1]/div[3]/dd/span[1]/span[1]')\n",
    "rango_min = rango_min.text\n",
    "print(\"Mínimo \" + rango_min)\n",
    "\n",
    "rango_max = driver.find_element(By.XPATH, '/html/body/div/div[2]/div[2]/div/div[1]/div/div[5]/div[1]/dl[1]/div[3]/dd/span[3]/span[1]')\n",
    "rango_max = rango_max.text\n",
    "print(\"Máximo \" + rango_max)\n",
    "\n",
    "ingresos_T = driver.find_element(By.XPATH, '/html/body/div/div[2]/div[2]/div/div[1]/div/div[5]/div[1]/dl[2]/div[2]/dd/span/span[1]')\n",
    "ingresos_T = ingresos_T.text\n",
    "print(\"Ingresos \" + ingresos_T + \"T\")\n",
    "\n",
    "apertura = driver.find_element(By.XPATH, '/html/body/div/div[2]/div[2]/div/div[1]/div/div[5]/div[1]/dl[1]/div[2]/dd/span/span[1]')\n",
    "apertura = apertura.text\n",
    "print(\"Apertura \" + apertura)\n",
    "\n",
    "\n",
    "volumen = driver.find_element(By.XPATH, '/html/body/div/div[2]/div[2]/div/div[1]/div/div[5]/div[1]/dl[1]/div[5]/dd/span/span[1]')\n",
    "volumen = volumen.text\n",
    "print(\"Volumen \" + volumen)\n",
    "\n",
    "volumen_promedio = driver.find_element(By.XPATH, '/html/body/div/div[2]/div[2]/div/div[1]/div/div[5]/div[1]/dl[1]/div[6]/dd/span/span[1]')\n",
    "volumen_promedio = volumen_promedio.text\n",
    "print(\"Volumen promedio \" + volumen_promedio)"
   ]
  },
  {
   "cell_type": "code",
   "execution_count": 6,
   "metadata": {},
   "outputs": [],
   "source": [
    "driver.close()"
   ]
  },
  {
   "cell_type": "code",
   "execution_count": 7,
   "metadata": {},
   "outputs": [],
   "source": [
    "#Conexión con la base de datos\n",
    "conn = sqlite3.connect('acciones_YPFD.db')"
   ]
  },
  {
   "cell_type": "code",
   "execution_count": 8,
   "metadata": {},
   "outputs": [
    {
     "data": {
      "text/plain": [
       "<sqlite3.Cursor at 0x14fb1a728c0>"
      ]
     },
     "execution_count": 8,
     "metadata": {},
     "output_type": "execute_result"
    }
   ],
   "source": [
    "#Creación de la tabla \"resumen\"\n",
    "c = conn.cursor()\n",
    "\n",
    "c.execute('''CREATE TABLE resumen\n",
    "             (date_time DATETIME, ultimo_precio REAL, minimo REAL, maximo REAL, ingresos REAL, apertura REAL, volumen REAL, volumen_promedio REAL)''')"
   ]
  },
  {
   "cell_type": "code",
   "execution_count": 9,
   "metadata": {},
   "outputs": [],
   "source": [
    "# Insertar datos en la tabla\n",
    "c.execute(\"INSERT INTO resumen (date_time, ultimo_precio, minimo, maximo, ingresos, apertura, volumen, volumen_promedio) VALUES (?, ?, ?, ?, ?, ?, ?, ?)\", \n",
    "          (now, ultimo_cierre, rango_min, rango_max, ingresos_T, apertura, volumen, volumen_promedio))\n",
    "\n",
    "# Guardar los cambios en la base de datos y cerrar la conexión\n",
    "conn.commit()\n"
   ]
  },
  {
   "cell_type": "code",
   "execution_count": 10,
   "metadata": {},
   "outputs": [
    {
     "name": "stdout",
     "output_type": "stream",
     "text": [
      "('2023-05-05 23:11:14.474165', '4.768,75', 4.841, '5.229,9', '2,53', 4.841, 322.677, 304.817)\n"
     ]
    }
   ],
   "source": [
    "#Vemos los datos guardados\n",
    "# Seleccionar los datos de la tabla\n",
    "c.execute(\"SELECT * FROM resumen\")\n",
    "\n",
    "# Obtener los resultados de la consulta\n",
    "resultados = c.fetchall()\n",
    "\n",
    "# Imprimir los resultados en la consola\n",
    "for fila in resultados:\n",
    "    print(fila)"
   ]
  },
  {
   "cell_type": "code",
   "execution_count": 11,
   "metadata": {},
   "outputs": [],
   "source": [
    "# Cerrar la conexión a la base de datos\n",
    "conn.close()"
   ]
  }
 ],
 "metadata": {
  "kernelspec": {
   "display_name": "Python 3",
   "language": "python",
   "name": "python3"
  },
  "language_info": {
   "codemirror_mode": {
    "name": "ipython",
    "version": 3
   },
   "file_extension": ".py",
   "mimetype": "text/x-python",
   "name": "python",
   "nbconvert_exporter": "python",
   "pygments_lexer": "ipython3",
   "version": "3.11.3"
  }
 },
 "nbformat": 4,
 "nbformat_minor": 4
}
