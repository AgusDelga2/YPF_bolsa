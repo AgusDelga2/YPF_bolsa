{
 "cells": [
  {
   "attachments": {},
   "cell_type": "markdown",
   "metadata": {},
   "source": [
    "# 26/04/2023"
   ]
  },
  {
   "attachments": {},
   "cell_type": "markdown",
   "metadata": {},
   "source": [
    "### Importar las librerías"
   ]
  },
  {
   "cell_type": "code",
   "execution_count": 1,
   "metadata": {},
   "outputs": [],
   "source": [
    "from selenium import webdriver\n",
    "from selenium.webdriver.common.by import By\n",
    "from selenium.webdriver.common.keys import Keys\n",
    "from selenium.webdriver.chrome.service import Service\n",
    "import sqlite3\n",
    "from datetime import datetime\n",
    "import schedule\n",
    "import time\n",
    "import csv\n"
   ]
  },
  {
   "attachments": {},
   "cell_type": "markdown",
   "metadata": {},
   "source": [
    "## Web Scraping con Selenium\n",
    "### Conexión con el driver"
   ]
  },
  {
   "cell_type": "code",
   "execution_count": 5,
   "metadata": {},
   "outputs": [],
   "source": [
    "# Opciones de navegacion\n",
    "\n",
    "options =  webdriver.ChromeOptions()\n",
    "options.add_argument('--start-maximized')\n",
    "options.add_argument('--disable-extensions')\n",
    "\n",
    "driver_path = Service(\"C:\\\\Users\\\\Tatu\\\\Downloads\\\\chromedriver_win32\\\\chromedriver.exe\")\n",
    "\n",
    "driver = webdriver.Chrome(service = driver_path, options = options)\n"
   ]
  },
  {
   "cell_type": "code",
   "execution_count": 6,
   "metadata": {},
   "outputs": [
    {
     "name": "stdout",
     "output_type": "stream",
     "text": [
      "Acciones YPF | Cotización BA:YPFD hoy - Investing.com\n"
     ]
    }
   ],
   "source": [
    "# Conexion con la pagina\n",
    "driver.get('https://es.investing.com/equities/ypf-sociedad')\n",
    "\n",
    "tit=driver.title\n",
    "print(tit)\n"
   ]
  },
  {
   "cell_type": "code",
   "execution_count": 4,
   "metadata": {},
   "outputs": [
    {
     "name": "stdout",
     "output_type": "stream",
     "text": [
      "2023-05-08 14:36:25.905009\n"
     ]
    }
   ],
   "source": [
    "# Insertar fecha y hora actual\n",
    "now = datetime.now()\n",
    "print(now)"
   ]
  },
  {
   "attachments": {},
   "cell_type": "markdown",
   "metadata": {},
   "source": [
    "### Obtención de los datos\n",
    "Se debe actualizar el fullXPath, no se mantiene siempre igual"
   ]
  },
  {
   "cell_type": "code",
   "execution_count": null,
   "metadata": {},
   "outputs": [],
   "source": [
    "# Obtencion de los datos con el fullXPath\n",
    "\n",
    "ultimo_cierre = driver.find_element(By.XPATH, '/html/body/div[1]/div[2]/div[2]/div/div[1]/div/div[5]/div[1]/dl[1]/div[1]/dd/span/span[1]')\n",
    "ultimo_cierre = ultimo_cierre.text\n",
    "print(\"Último cierre \" + ultimo_cierre)\n",
    "\n",
    "rango_min = driver.find_element(By.XPATH, '/html/body/div/div[2]/div[2]/div/div[1]/div/div[5]/div[1]/dl[1]/div[3]/dd/span[1]/span[1]')\n",
    "rango_min = rango_min.text\n",
    "print(\"Mínimo \" + rango_min)\n",
    "\n",
    "rango_max = driver.find_element(By.XPATH, '/html/body/div/div[2]/div[2]/div/div[1]/div/div[5]/div[1]/dl[1]/div[3]/dd/span[3]/span[1]')\n",
    "rango_max = rango_max.text\n",
    "print(\"Máximo \" + rango_max)\n",
    "\n",
    "ingresos_T = driver.find_element(By.XPATH, '/html/body/div/div[2]/div[2]/div/div[1]/div/div[5]/div[1]/dl[2]/div[2]/dd/span/span[1]')\n",
    "ingresos_T = ingresos_T.text\n",
    "print(\"Ingresos \" + ingresos_T + \"T\")\n",
    "\n",
    "apertura = driver.find_element(By.XPATH, '/html/body/div/div[2]/div[2]/div/div[1]/div/div[5]/div[1]/dl[1]/div[2]/dd/span/span[1]')\n",
    "apertura = apertura.text\n",
    "print(\"Apertura \" + apertura)\n",
    "\n",
    "\n",
    "volumen = driver.find_element(By.XPATH, '/html/body/div/div[2]/div[2]/div/div[1]/div/div[5]/div[1]/dl[1]/div[5]/dd/span/span[1]')\n",
    "volumen = volumen.text\n",
    "print(\"Volumen \" + volumen)\n",
    "\n",
    "volumen_promedio = driver.find_element(By.XPATH, '/html/body/div/div[2]/div[2]/div/div[1]/div/div[5]/div[1]/dl[1]/div[6]/dd/span/span[1]')\n",
    "volumen_promedio = volumen_promedio.text\n",
    "print(\"Volumen promedio \" + volumen_promedio)\n",
    "\n",
    "ultimo_precio = driver.find_element(By.XPATH, '/html/body/div/div[2]/div[2]/div/div[1]/div/div[1]/div[3]/div/div[1]/div[1]')\n",
    "ultimo_precio = ultimo_precio.text\n",
    "print(\"Último precio \" + ultimo_precio)"
   ]
  },
  {
   "cell_type": "code",
   "execution_count": 7,
   "metadata": {},
   "outputs": [],
   "source": [
    "# Cerrar el driver\n",
    "driver.close()"
   ]
  },
  {
   "attachments": {},
   "cell_type": "markdown",
   "metadata": {},
   "source": [
    "## Guardar los datos obtenidos en una base de datos SQL\n",
    "### Conexión con sqlite3"
   ]
  },
  {
   "cell_type": "code",
   "execution_count": 3,
   "metadata": {},
   "outputs": [],
   "source": [
    "#Conexión con la base de datos\n",
    "conn = sqlite3.connect('acciones_YPFD.db')\n",
    "c = conn.cursor()"
   ]
  },
  {
   "cell_type": "code",
   "execution_count": null,
   "metadata": {},
   "outputs": [],
   "source": [
    "#Creación de la tabla \"resumen\"\n",
    "#c.execute('''CREATE TABLE resumen\n",
    "#             (date_time DATETIME, ultimo_precio REAL, minimo REAL, maximo REAL, ingresos REAL, apertura REAL, volumen REAL, volumen_promedio REAL)''')"
   ]
  },
  {
   "cell_type": "code",
   "execution_count": 9,
   "metadata": {},
   "outputs": [],
   "source": [
    "# Insertar datos en la tabla\n",
    "c.execute(\"INSERT INTO resumen (date_time, ultimo_cierre, minimo, maximo, ingresos, apertura, volumen, volumen_promedio, ultimo_precio) VALUES (?, ?, ?, ?, ?, ?, ?, ?, ?)\", \n",
    "          (now, ultimo_cierre, rango_min, rango_max, ingresos_T, apertura, volumen, volumen_promedio, ultimo_precio))\n",
    "\n",
    "# Guardar los cambios en la base de datos y cerrar la conexión\n",
    "conn.commit()\n"
   ]
  },
  {
   "cell_type": "code",
   "execution_count": 10,
   "metadata": {},
   "outputs": [
    {
     "name": "stdout",
     "output_type": "stream",
     "text": [
      "('2023-05-05 23:11:14.474165', '4.768,75', 4.841, '5.229,9', '2,53', 4.841, 322.677, 304.817)\n"
     ]
    }
   ],
   "source": [
    "# Ver los datos guardados\n",
    "# Seleccionar los datos de la tabla\n",
    "c.execute(\"SELECT * FROM resumen\")\n",
    "\n",
    "# Obtener los resultados de la consulta\n",
    "resultados = c.fetchall()\n",
    "\n",
    "# Imprimir los resultados en la consola\n",
    "for fila in resultados:\n",
    "    print(fila)"
   ]
  },
  {
   "cell_type": "code",
   "execution_count": 8,
   "metadata": {},
   "outputs": [],
   "source": [
    "# Cerrar la conexión a la base de datos\n",
    "conn.close()"
   ]
  },
  {
   "attachments": {},
   "cell_type": "markdown",
   "metadata": {},
   "source": [
    "## Obtención de los datos cada minuto\n",
    "Utilizamos la librería shedule para que el script se corra cada un minuto e ir obteniendo los valores actualizados. \n",
    "\n",
    "Primero creamos la función web_scraping() y copiamos el script utilizado. Esto nos servirá para posteriormente ejecutarlo cada un minuto con schedule."
   ]
  },
  {
   "cell_type": "code",
   "execution_count": 7,
   "metadata": {},
   "outputs": [],
   "source": [
    "#Crear la función para utilizar en schedule\n",
    "def web_scraping():\n",
    "\n",
    "    #Opciones de navegacion\n",
    "    options =  webdriver.ChromeOptions()\n",
    "    options.add_argument('--start-maximized')\n",
    "    options.add_argument('--disable-extensions')\n",
    "\n",
    "    driver_path = Service(\"C:\\\\Users\\\\Tatu\\\\Downloads\\\\chromedriver_win32\\\\chromedriver.exe\")\n",
    "\n",
    "    driver = webdriver.Chrome(service = driver_path, options = options)\n",
    "\n",
    "    # Conexion con la pagina\n",
    "    driver.get('https://es.investing.com/equities/ypf-sociedad')\n",
    "\n",
    "    # Dejar que cargue la página\n",
    "    time.sleep(5)\n",
    "\n",
    "    tit=driver.title\n",
    "    print(tit)\n",
    "\n",
    "    # Insertar fecha y hora actual\n",
    "    now = datetime.now()\n",
    "    print(now)\n",
    "\n",
    "    # Obtener los datos con el fullXPath\n",
    "\n",
    "    ultimo_cierre = driver.find_element(By.XPATH, '/html/body/div/div[2]/div/div/div[2]/main/div/div[8]/div/div[2]/dl/div[1]/dd/span/span[1]')\n",
    "    ultimo_cierre = ultimo_cierre.text\n",
    "    print(\"Último cierre \" + ultimo_cierre)\n",
    "\n",
    "    rango_min = driver.find_element(By.XPATH, '/html/body/div/div[2]/div/div/div[2]/main/div/div[8]/div/div[2]/dl/div[2]/dd/span[1]/span[1]')\n",
    "    rango_min = rango_min.text\n",
    "    print(\"Mínimo \" + rango_min)\n",
    "\n",
    "    rango_max = driver.find_element(By.XPATH, '/html/body/div/div[2]/div/div/div[2]/main/div/div[8]/div/div[2]/dl/div[2]/dd/span[3]/span[1]')\n",
    "    rango_max = rango_max.text\n",
    "    print(\"Máximo \" + rango_max)\n",
    "\n",
    "    ingresos_T = driver.find_element(By.XPATH, '/html/body/div/div[2]/div/div/div[2]/main/div/div[8]/div/div[2]/dl/div[3]/dd/span/span[1]')\n",
    "    ingresos_T = ingresos_T.text\n",
    "    print(\"Ingresos \" + ingresos_T + \"T\")\n",
    "\n",
    "    apertura = driver.find_element(By.XPATH, '/html/body/div/div[2]/div/div/div[2]/main/div/div[8]/div/div[2]/dl/div[4]/dd/span/span[1]')\n",
    "    apertura = apertura.text\n",
    "    print(\"Apertura \" + apertura)\n",
    "\n",
    "\n",
    "    volumen = driver.find_element(By.XPATH, '/html/body/div/div[2]/div/div/div[2]/main/div/div[8]/div/div[2]/dl/div[7]/dd/span/span[1]')\n",
    "    volumen = volumen.text\n",
    "    print(\"Volumen \" + volumen)\n",
    "\n",
    "    volumen_promedio = driver.find_element(By.XPATH, '/html/body/div/div[2]/div/div/div[2]/main/div/div[8]/div/div[2]/dl/div[10]/dd/span/span[1]')\n",
    "    volumen_promedio = volumen_promedio.text\n",
    "    print(\"Volumen promedio \" + volumen_promedio)   \n",
    "\n",
    "    ultimo_precio = driver.find_element(By.XPATH, '/html/body/div/div[2]/div/div/div[2]/main/div/div[1]/div[2]/div[1]/span')\n",
    "    ultimo_precio = ultimo_precio.text\n",
    "    print(\"Último precio \" + ultimo_precio)\n",
    "    \n",
    "    # Cerrar el driver\n",
    "    driver.close()\n",
    "\n",
    "    # Conexion con la base de datos\n",
    "    conn = sqlite3.connect('acciones_YPFD.db')\n",
    "    cursor = conn.cursor()\n",
    "\n",
    "    # Insertar datos en la tabla\n",
    "    cursor.execute(\"INSERT INTO resumen (date_time, ultimo_cierre, minimo, maximo, ingresos, apertura, volumen, volumen_promedio, ultimo_precio) VALUES (?, ?, ?, ?, ?, ?, ?, ?, ?)\", \n",
    "               (now, ultimo_cierre, rango_min, rango_max, ingresos_T, apertura, volumen, volumen_promedio, ultimo_precio))\n",
    "\n",
    "    # Guardar los cambios en la base de datos y cerrar la conexión\n",
    "    conn.commit()\n",
    "\n",
    "    # Ver los datos guardados\n",
    "    # Seleccionar los datos de la tabla\n",
    "    cursor.execute(\"SELECT * FROM resumen\")\n",
    "\n",
    "    # Obtener los resultados de la consulta\n",
    "    resultados = cursor.fetchall()\n",
    "\n",
    "    # Imprimir los resultados en la consola\n",
    "    for fila in resultados:\n",
    "        print(fila)\n",
    "\n",
    "    # Cerrar la conexión a la base de datos\n",
    "    conn.close()\n",
    "\n"
   ]
  },
  {
   "attachments": {},
   "cell_type": "markdown",
   "metadata": {},
   "source": [
    "### Programar la ejecución cada minuto\n"
   ]
  },
  {
   "cell_type": "code",
   "execution_count": 10,
   "metadata": {},
   "outputs": [
    {
     "name": "stdout",
     "output_type": "stream",
     "text": [
      "Acciones YPF | Cotización BA:YPFD hoy - Investing.com\n",
      "2023-05-09 14:25:03.450658\n"
     ]
    },
    {
     "ename": "NoSuchElementException",
     "evalue": "Message: no such element: Unable to locate element: {\"method\":\"xpath\",\"selector\":\"/html/body/div/div[2]/div/div/div[2]/main/div/div[8]/div/div[2]/dl/div[1]/dd/span/span[1]\"}\n  (Session info: chrome=112.0.5615.140)\nStacktrace:\nBacktrace:\n\tGetHandleVerifier [0x0114DCE3+50899]\n\t(No symbol) [0x010DE111]\n\t(No symbol) [0x00FE5588]\n\t(No symbol) [0x010108F9]\n\t(No symbol) [0x01010AFB]\n\t(No symbol) [0x0103F902]\n\t(No symbol) [0x0102B944]\n\t(No symbol) [0x0103E01C]\n\t(No symbol) [0x0102B6F6]\n\t(No symbol) [0x01007708]\n\t(No symbol) [0x0100886D]\n\tGetHandleVerifier [0x013B3EAE+2566302]\n\tGetHandleVerifier [0x013E92B1+2784417]\n\tGetHandleVerifier [0x013E327C+2759788]\n\tGetHandleVerifier [0x011E5740+672048]\n\t(No symbol) [0x010E8872]\n\t(No symbol) [0x010E41C8]\n\t(No symbol) [0x010E42AB]\n\t(No symbol) [0x010D71B7]\n\tBaseThreadInitThunk [0x771A7D49+25]\n\tRtlInitializeExceptionChain [0x7792B74B+107]\n\tRtlClearBits [0x7792B6CF+191]\n",
     "output_type": "error",
     "traceback": [
      "\u001b[1;31m---------------------------------------------------------------------------\u001b[0m",
      "\u001b[1;31mNoSuchElementException\u001b[0m                    Traceback (most recent call last)",
      "Cell \u001b[1;32mIn[10], line 6\u001b[0m\n\u001b[0;32m      4\u001b[0m \u001b[39m# Ejecutar el programa continuamente\u001b[39;00m\n\u001b[0;32m      5\u001b[0m \u001b[39mwhile\u001b[39;00m \u001b[39mTrue\u001b[39;00m:\n\u001b[1;32m----> 6\u001b[0m     schedule\u001b[39m.\u001b[39;49mrun_pending()\n\u001b[0;32m      7\u001b[0m     time\u001b[39m.\u001b[39msleep(\u001b[39m1\u001b[39m)\n",
      "File \u001b[1;32m~\\AppData\\Local\\Packages\\PythonSoftwareFoundation.Python.3.11_qbz5n2kfra8p0\\LocalCache\\local-packages\\Python311\\site-packages\\schedule\\__init__.py:822\u001b[0m, in \u001b[0;36mrun_pending\u001b[1;34m()\u001b[0m\n\u001b[0;32m    818\u001b[0m \u001b[39mdef\u001b[39;00m \u001b[39mrun_pending\u001b[39m() \u001b[39m-\u001b[39m\u001b[39m>\u001b[39m \u001b[39mNone\u001b[39;00m:\n\u001b[0;32m    819\u001b[0m \u001b[39m    \u001b[39m\u001b[39m\"\"\"Calls :meth:`run_pending <Scheduler.run_pending>` on the\u001b[39;00m\n\u001b[0;32m    820\u001b[0m \u001b[39m    :data:`default scheduler instance <default_scheduler>`.\u001b[39;00m\n\u001b[0;32m    821\u001b[0m \u001b[39m    \"\"\"\u001b[39;00m\n\u001b[1;32m--> 822\u001b[0m     default_scheduler\u001b[39m.\u001b[39;49mrun_pending()\n",
      "File \u001b[1;32m~\\AppData\\Local\\Packages\\PythonSoftwareFoundation.Python.3.11_qbz5n2kfra8p0\\LocalCache\\local-packages\\Python311\\site-packages\\schedule\\__init__.py:100\u001b[0m, in \u001b[0;36mScheduler.run_pending\u001b[1;34m(self)\u001b[0m\n\u001b[0;32m     98\u001b[0m runnable_jobs \u001b[39m=\u001b[39m (job \u001b[39mfor\u001b[39;00m job \u001b[39min\u001b[39;00m \u001b[39mself\u001b[39m\u001b[39m.\u001b[39mjobs \u001b[39mif\u001b[39;00m job\u001b[39m.\u001b[39mshould_run)\n\u001b[0;32m     99\u001b[0m \u001b[39mfor\u001b[39;00m job \u001b[39min\u001b[39;00m \u001b[39msorted\u001b[39m(runnable_jobs):\n\u001b[1;32m--> 100\u001b[0m     \u001b[39mself\u001b[39;49m\u001b[39m.\u001b[39;49m_run_job(job)\n",
      "File \u001b[1;32m~\\AppData\\Local\\Packages\\PythonSoftwareFoundation.Python.3.11_qbz5n2kfra8p0\\LocalCache\\local-packages\\Python311\\site-packages\\schedule\\__init__.py:172\u001b[0m, in \u001b[0;36mScheduler._run_job\u001b[1;34m(self, job)\u001b[0m\n\u001b[0;32m    171\u001b[0m \u001b[39mdef\u001b[39;00m \u001b[39m_run_job\u001b[39m(\u001b[39mself\u001b[39m, job: \u001b[39m\"\u001b[39m\u001b[39mJob\u001b[39m\u001b[39m\"\u001b[39m) \u001b[39m-\u001b[39m\u001b[39m>\u001b[39m \u001b[39mNone\u001b[39;00m:\n\u001b[1;32m--> 172\u001b[0m     ret \u001b[39m=\u001b[39m job\u001b[39m.\u001b[39;49mrun()\n\u001b[0;32m    173\u001b[0m     \u001b[39mif\u001b[39;00m \u001b[39misinstance\u001b[39m(ret, CancelJob) \u001b[39mor\u001b[39;00m ret \u001b[39mis\u001b[39;00m CancelJob:\n\u001b[0;32m    174\u001b[0m         \u001b[39mself\u001b[39m\u001b[39m.\u001b[39mcancel_job(job)\n",
      "File \u001b[1;32m~\\AppData\\Local\\Packages\\PythonSoftwareFoundation.Python.3.11_qbz5n2kfra8p0\\LocalCache\\local-packages\\Python311\\site-packages\\schedule\\__init__.py:693\u001b[0m, in \u001b[0;36mJob.run\u001b[1;34m(self)\u001b[0m\n\u001b[0;32m    690\u001b[0m     \u001b[39mreturn\u001b[39;00m CancelJob\n\u001b[0;32m    692\u001b[0m logger\u001b[39m.\u001b[39mdebug(\u001b[39m\"\u001b[39m\u001b[39mRunning job \u001b[39m\u001b[39m%s\u001b[39;00m\u001b[39m\"\u001b[39m, \u001b[39mself\u001b[39m)\n\u001b[1;32m--> 693\u001b[0m ret \u001b[39m=\u001b[39m \u001b[39mself\u001b[39;49m\u001b[39m.\u001b[39;49mjob_func()\n\u001b[0;32m    694\u001b[0m \u001b[39mself\u001b[39m\u001b[39m.\u001b[39mlast_run \u001b[39m=\u001b[39m datetime\u001b[39m.\u001b[39mdatetime\u001b[39m.\u001b[39mnow()\n\u001b[0;32m    695\u001b[0m \u001b[39mself\u001b[39m\u001b[39m.\u001b[39m_schedule_next_run()\n",
      "Cell \u001b[1;32mIn[2], line 28\u001b[0m, in \u001b[0;36mweb_scraping\u001b[1;34m()\u001b[0m\n\u001b[0;32m     24\u001b[0m \u001b[39mprint\u001b[39m(now)\n\u001b[0;32m     26\u001b[0m \u001b[39m# Obtener los datos con el fullXPath\u001b[39;00m\n\u001b[1;32m---> 28\u001b[0m ultimo_cierre \u001b[39m=\u001b[39m driver\u001b[39m.\u001b[39;49mfind_element(By\u001b[39m.\u001b[39;49mXPATH, \u001b[39m'\u001b[39;49m\u001b[39m/html/body/div/div[2]/div/div/div[2]/main/div/div[8]/div/div[2]/dl/div[1]/dd/span/span[1]\u001b[39;49m\u001b[39m'\u001b[39;49m)\n\u001b[0;32m     29\u001b[0m ultimo_cierre \u001b[39m=\u001b[39m ultimo_cierre\u001b[39m.\u001b[39mtext\n\u001b[0;32m     30\u001b[0m \u001b[39mprint\u001b[39m(\u001b[39m\"\u001b[39m\u001b[39mÚltimo cierre \u001b[39m\u001b[39m\"\u001b[39m \u001b[39m+\u001b[39m ultimo_cierre)\n",
      "File \u001b[1;32m~\\AppData\\Local\\Packages\\PythonSoftwareFoundation.Python.3.11_qbz5n2kfra8p0\\LocalCache\\local-packages\\Python311\\site-packages\\selenium\\webdriver\\remote\\webdriver.py:831\u001b[0m, in \u001b[0;36mWebDriver.find_element\u001b[1;34m(self, by, value)\u001b[0m\n\u001b[0;32m    828\u001b[0m     by \u001b[39m=\u001b[39m By\u001b[39m.\u001b[39mCSS_SELECTOR\n\u001b[0;32m    829\u001b[0m     value \u001b[39m=\u001b[39m \u001b[39mf\u001b[39m\u001b[39m'\u001b[39m\u001b[39m[name=\u001b[39m\u001b[39m\"\u001b[39m\u001b[39m{\u001b[39;00mvalue\u001b[39m}\u001b[39;00m\u001b[39m\"\u001b[39m\u001b[39m]\u001b[39m\u001b[39m'\u001b[39m\n\u001b[1;32m--> 831\u001b[0m \u001b[39mreturn\u001b[39;00m \u001b[39mself\u001b[39;49m\u001b[39m.\u001b[39;49mexecute(Command\u001b[39m.\u001b[39;49mFIND_ELEMENT, {\u001b[39m\"\u001b[39;49m\u001b[39musing\u001b[39;49m\u001b[39m\"\u001b[39;49m: by, \u001b[39m\"\u001b[39;49m\u001b[39mvalue\u001b[39;49m\u001b[39m\"\u001b[39;49m: value})[\u001b[39m\"\u001b[39m\u001b[39mvalue\u001b[39m\u001b[39m\"\u001b[39m]\n",
      "File \u001b[1;32m~\\AppData\\Local\\Packages\\PythonSoftwareFoundation.Python.3.11_qbz5n2kfra8p0\\LocalCache\\local-packages\\Python311\\site-packages\\selenium\\webdriver\\remote\\webdriver.py:440\u001b[0m, in \u001b[0;36mWebDriver.execute\u001b[1;34m(self, driver_command, params)\u001b[0m\n\u001b[0;32m    438\u001b[0m response \u001b[39m=\u001b[39m \u001b[39mself\u001b[39m\u001b[39m.\u001b[39mcommand_executor\u001b[39m.\u001b[39mexecute(driver_command, params)\n\u001b[0;32m    439\u001b[0m \u001b[39mif\u001b[39;00m response:\n\u001b[1;32m--> 440\u001b[0m     \u001b[39mself\u001b[39;49m\u001b[39m.\u001b[39;49merror_handler\u001b[39m.\u001b[39;49mcheck_response(response)\n\u001b[0;32m    441\u001b[0m     response[\u001b[39m\"\u001b[39m\u001b[39mvalue\u001b[39m\u001b[39m\"\u001b[39m] \u001b[39m=\u001b[39m \u001b[39mself\u001b[39m\u001b[39m.\u001b[39m_unwrap_value(response\u001b[39m.\u001b[39mget(\u001b[39m\"\u001b[39m\u001b[39mvalue\u001b[39m\u001b[39m\"\u001b[39m, \u001b[39mNone\u001b[39;00m))\n\u001b[0;32m    442\u001b[0m     \u001b[39mreturn\u001b[39;00m response\n",
      "File \u001b[1;32m~\\AppData\\Local\\Packages\\PythonSoftwareFoundation.Python.3.11_qbz5n2kfra8p0\\LocalCache\\local-packages\\Python311\\site-packages\\selenium\\webdriver\\remote\\errorhandler.py:245\u001b[0m, in \u001b[0;36mErrorHandler.check_response\u001b[1;34m(self, response)\u001b[0m\n\u001b[0;32m    243\u001b[0m         alert_text \u001b[39m=\u001b[39m value[\u001b[39m\"\u001b[39m\u001b[39malert\u001b[39m\u001b[39m\"\u001b[39m]\u001b[39m.\u001b[39mget(\u001b[39m\"\u001b[39m\u001b[39mtext\u001b[39m\u001b[39m\"\u001b[39m)\n\u001b[0;32m    244\u001b[0m     \u001b[39mraise\u001b[39;00m exception_class(message, screen, stacktrace, alert_text)  \u001b[39m# type: ignore[call-arg]  # mypy is not smart enough here\u001b[39;00m\n\u001b[1;32m--> 245\u001b[0m \u001b[39mraise\u001b[39;00m exception_class(message, screen, stacktrace)\n",
      "\u001b[1;31mNoSuchElementException\u001b[0m: Message: no such element: Unable to locate element: {\"method\":\"xpath\",\"selector\":\"/html/body/div/div[2]/div/div/div[2]/main/div/div[8]/div/div[2]/dl/div[1]/dd/span/span[1]\"}\n  (Session info: chrome=112.0.5615.140)\nStacktrace:\nBacktrace:\n\tGetHandleVerifier [0x0114DCE3+50899]\n\t(No symbol) [0x010DE111]\n\t(No symbol) [0x00FE5588]\n\t(No symbol) [0x010108F9]\n\t(No symbol) [0x01010AFB]\n\t(No symbol) [0x0103F902]\n\t(No symbol) [0x0102B944]\n\t(No symbol) [0x0103E01C]\n\t(No symbol) [0x0102B6F6]\n\t(No symbol) [0x01007708]\n\t(No symbol) [0x0100886D]\n\tGetHandleVerifier [0x013B3EAE+2566302]\n\tGetHandleVerifier [0x013E92B1+2784417]\n\tGetHandleVerifier [0x013E327C+2759788]\n\tGetHandleVerifier [0x011E5740+672048]\n\t(No symbol) [0x010E8872]\n\t(No symbol) [0x010E41C8]\n\t(No symbol) [0x010E42AB]\n\t(No symbol) [0x010D71B7]\n\tBaseThreadInitThunk [0x771A7D49+25]\n\tRtlInitializeExceptionChain [0x7792B74B+107]\n\tRtlClearBits [0x7792B6CF+191]\n"
     ]
    }
   ],
   "source": [
    "# Programar la ejecución del scraping cada minuto\n",
    "schedule.every().minute.do(web_scraping)\n",
    "\n",
    "# Ejecutar el programa continuamente\n",
    "while True:\n",
    "    schedule.run_pending()\n",
    "    time.sleep(1)"
   ]
  },
  {
   "attachments": {},
   "cell_type": "markdown",
   "metadata": {},
   "source": [
    "## Guardar datos en archivo CSV"
   ]
  },
  {
   "cell_type": "code",
   "execution_count": 11,
   "metadata": {},
   "outputs": [],
   "source": [
    "# Abrir conexión a la base de datos sqlite\n",
    "conn = sqlite3.connect('acciones_YPFD.db')\n",
    "\n",
    "# Seleccionar los datos\n",
    "cursor = conn.cursor()\n",
    "cursor.execute(\"SELECT * FROM resumen\")\n",
    "\n",
    "# Crear archivo CSV y escribir datos\n",
    "with open('resumen_YPF.csv', 'w', newline='') as csvfile:\n",
    "    csvwriter = csv.writer(csvfile, delimiter=',')\n",
    "    # Escribir encabezados de columnas\n",
    "    csvwriter.writerow([i[0] for i in cursor.description])  \n",
    "    csvwriter.writerows(cursor)\n",
    "\n",
    "# Cerrar conexión a la base de datos\n",
    "conn.close()\n"
   ]
  }
 ],
 "metadata": {
  "kernelspec": {
   "display_name": "Python 3",
   "language": "python",
   "name": "python3"
  },
  "language_info": {
   "codemirror_mode": {
    "name": "ipython",
    "version": 3
   },
   "file_extension": ".py",
   "mimetype": "text/x-python",
   "name": "python",
   "nbconvert_exporter": "python",
   "pygments_lexer": "ipython3",
   "version": "3.11.3"
  }
 },
 "nbformat": 4,
 "nbformat_minor": 4
}
