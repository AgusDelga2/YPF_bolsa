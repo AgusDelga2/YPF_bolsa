{
 "cells": [
  {
   "attachments": {},
   "cell_type": "markdown",
   "metadata": {},
   "source": [
    "# 26/04/2023"
   ]
  },
  {
   "cell_type": "code",
   "execution_count": 1,
   "metadata": {},
   "outputs": [],
   "source": [
    "from selenium import webdriver\n",
    "from selenium.webdriver.common.by import By\n",
    "from selenium.webdriver.common.keys import Keys\n",
    "from selenium.webdriver.chrome.service import Service\n",
    "from selenium.webdriver.support import expected_conditions as EC\n",
    "import pandas as pd\n",
    "\n",
    "# import mongo client to connect  \n",
    "#from pymongo import MongoClient \n",
    "#import pprint  \n",
    "\n",
    "import datetime"
   ]
  },
  {
   "cell_type": "code",
   "execution_count": 2,
   "metadata": {},
   "outputs": [],
   "source": [
    "#Opciones de navegacion\n",
    "\n",
    "options =  webdriver.ChromeOptions()\n",
    "options.add_argument('--start-maximized')\n",
    "options.add_argument('--disable-extensions')\n",
    "\n",
    "driver_path = Service(\"C:\\\\Users\\\\Tatu\\\\Downloads\\\\chromedriver_win32\\\\chromedriver.exe\")\n",
    "\n",
    "driver = webdriver.Chrome(service = driver_path, options = options)\n"
   ]
  },
  {
   "cell_type": "code",
   "execution_count": 3,
   "metadata": {},
   "outputs": [
    {
     "name": "stdout",
     "output_type": "stream",
     "text": [
      "Acciones YPF | Cotización BA:YPFD hoy - Investing.com\n"
     ]
    }
   ],
   "source": [
    "\n",
    "driver.get('https://es.investing.com/equities/ypf-sociedad')\n",
    "\n",
    "tit=driver.title\n",
    "print(tit)\n",
    "\n",
    "#xpath"
   ]
  },
  {
   "cell_type": "code",
   "execution_count": 4,
   "metadata": {},
   "outputs": [
    {
     "ename": "NoSuchElementException",
     "evalue": "Message: no such element: Unable to locate element: {\"method\":\"xpath\",\"selector\":\"//*[@id=\"__next\"]/div[2]/div/div/div[2]/main/div/div[8]/div/div[2]/dl/div[1]/dd/span/span[1]\"}\n  (Session info: chrome=112.0.5615.138)\nStacktrace:\nBacktrace:\n\tGetHandleVerifier [0x00F2DCE3+50899]\n\t(No symbol) [0x00EBE111]\n\t(No symbol) [0x00DC5588]\n\t(No symbol) [0x00DF08F9]\n\t(No symbol) [0x00DF0AFB]\n\t(No symbol) [0x00E1F902]\n\t(No symbol) [0x00E0B944]\n\t(No symbol) [0x00E1E01C]\n\t(No symbol) [0x00E0B6F6]\n\t(No symbol) [0x00DE7708]\n\t(No symbol) [0x00DE886D]\n\tGetHandleVerifier [0x01193EAE+2566302]\n\tGetHandleVerifier [0x011C92B1+2784417]\n\tGetHandleVerifier [0x011C327C+2759788]\n\tGetHandleVerifier [0x00FC5740+672048]\n\t(No symbol) [0x00EC8872]\n\t(No symbol) [0x00EC41C8]\n\t(No symbol) [0x00EC42AB]\n\t(No symbol) [0x00EB71B7]\n\tBaseThreadInitThunk [0x764E7D49+25]\n\tRtlInitializeExceptionChain [0x7703B74B+107]\n\tRtlClearBits [0x7703B6CF+191]\n",
     "output_type": "error",
     "traceback": [
      "\u001b[1;31m---------------------------------------------------------------------------\u001b[0m",
      "\u001b[1;31mNoSuchElementException\u001b[0m                    Traceback (most recent call last)",
      "Cell \u001b[1;32mIn[4], line 1\u001b[0m\n\u001b[1;32m----> 1\u001b[0m ultimo_cierre \u001b[39m=\u001b[39m driver\u001b[39m.\u001b[39;49mfind_element(By\u001b[39m.\u001b[39;49mXPATH, \u001b[39m'\u001b[39;49m\u001b[39m//*[@id=\u001b[39;49m\u001b[39m\"\u001b[39;49m\u001b[39m__next\u001b[39;49m\u001b[39m\"\u001b[39;49m\u001b[39m]/div[2]/div/div/div[2]/main/div/div[8]/div/div[2]/dl/div[1]/dd/span/span[1]\u001b[39;49m\u001b[39m'\u001b[39;49m)\n\u001b[0;32m      2\u001b[0m ultimo_cierre \u001b[39m=\u001b[39m ultimo_cierre\u001b[39m.\u001b[39mtext\n\u001b[0;32m      3\u001b[0m \u001b[39mprint\u001b[39m(\u001b[39m\"\u001b[39m\u001b[39mÚltimo cierre \u001b[39m\u001b[39m\"\u001b[39m \u001b[39m+\u001b[39m ultimo_cierre)\n",
      "File \u001b[1;32m~\\AppData\\Local\\Packages\\PythonSoftwareFoundation.Python.3.11_qbz5n2kfra8p0\\LocalCache\\local-packages\\Python311\\site-packages\\selenium\\webdriver\\remote\\webdriver.py:831\u001b[0m, in \u001b[0;36mWebDriver.find_element\u001b[1;34m(self, by, value)\u001b[0m\n\u001b[0;32m    828\u001b[0m     by \u001b[39m=\u001b[39m By\u001b[39m.\u001b[39mCSS_SELECTOR\n\u001b[0;32m    829\u001b[0m     value \u001b[39m=\u001b[39m \u001b[39mf\u001b[39m\u001b[39m'\u001b[39m\u001b[39m[name=\u001b[39m\u001b[39m\"\u001b[39m\u001b[39m{\u001b[39;00mvalue\u001b[39m}\u001b[39;00m\u001b[39m\"\u001b[39m\u001b[39m]\u001b[39m\u001b[39m'\u001b[39m\n\u001b[1;32m--> 831\u001b[0m \u001b[39mreturn\u001b[39;00m \u001b[39mself\u001b[39;49m\u001b[39m.\u001b[39;49mexecute(Command\u001b[39m.\u001b[39;49mFIND_ELEMENT, {\u001b[39m\"\u001b[39;49m\u001b[39musing\u001b[39;49m\u001b[39m\"\u001b[39;49m: by, \u001b[39m\"\u001b[39;49m\u001b[39mvalue\u001b[39;49m\u001b[39m\"\u001b[39;49m: value})[\u001b[39m\"\u001b[39m\u001b[39mvalue\u001b[39m\u001b[39m\"\u001b[39m]\n",
      "File \u001b[1;32m~\\AppData\\Local\\Packages\\PythonSoftwareFoundation.Python.3.11_qbz5n2kfra8p0\\LocalCache\\local-packages\\Python311\\site-packages\\selenium\\webdriver\\remote\\webdriver.py:440\u001b[0m, in \u001b[0;36mWebDriver.execute\u001b[1;34m(self, driver_command, params)\u001b[0m\n\u001b[0;32m    438\u001b[0m response \u001b[39m=\u001b[39m \u001b[39mself\u001b[39m\u001b[39m.\u001b[39mcommand_executor\u001b[39m.\u001b[39mexecute(driver_command, params)\n\u001b[0;32m    439\u001b[0m \u001b[39mif\u001b[39;00m response:\n\u001b[1;32m--> 440\u001b[0m     \u001b[39mself\u001b[39;49m\u001b[39m.\u001b[39;49merror_handler\u001b[39m.\u001b[39;49mcheck_response(response)\n\u001b[0;32m    441\u001b[0m     response[\u001b[39m\"\u001b[39m\u001b[39mvalue\u001b[39m\u001b[39m\"\u001b[39m] \u001b[39m=\u001b[39m \u001b[39mself\u001b[39m\u001b[39m.\u001b[39m_unwrap_value(response\u001b[39m.\u001b[39mget(\u001b[39m\"\u001b[39m\u001b[39mvalue\u001b[39m\u001b[39m\"\u001b[39m, \u001b[39mNone\u001b[39;00m))\n\u001b[0;32m    442\u001b[0m     \u001b[39mreturn\u001b[39;00m response\n",
      "File \u001b[1;32m~\\AppData\\Local\\Packages\\PythonSoftwareFoundation.Python.3.11_qbz5n2kfra8p0\\LocalCache\\local-packages\\Python311\\site-packages\\selenium\\webdriver\\remote\\errorhandler.py:245\u001b[0m, in \u001b[0;36mErrorHandler.check_response\u001b[1;34m(self, response)\u001b[0m\n\u001b[0;32m    243\u001b[0m         alert_text \u001b[39m=\u001b[39m value[\u001b[39m\"\u001b[39m\u001b[39malert\u001b[39m\u001b[39m\"\u001b[39m]\u001b[39m.\u001b[39mget(\u001b[39m\"\u001b[39m\u001b[39mtext\u001b[39m\u001b[39m\"\u001b[39m)\n\u001b[0;32m    244\u001b[0m     \u001b[39mraise\u001b[39;00m exception_class(message, screen, stacktrace, alert_text)  \u001b[39m# type: ignore[call-arg]  # mypy is not smart enough here\u001b[39;00m\n\u001b[1;32m--> 245\u001b[0m \u001b[39mraise\u001b[39;00m exception_class(message, screen, stacktrace)\n",
      "\u001b[1;31mNoSuchElementException\u001b[0m: Message: no such element: Unable to locate element: {\"method\":\"xpath\",\"selector\":\"//*[@id=\"__next\"]/div[2]/div/div/div[2]/main/div/div[8]/div/div[2]/dl/div[1]/dd/span/span[1]\"}\n  (Session info: chrome=112.0.5615.138)\nStacktrace:\nBacktrace:\n\tGetHandleVerifier [0x00F2DCE3+50899]\n\t(No symbol) [0x00EBE111]\n\t(No symbol) [0x00DC5588]\n\t(No symbol) [0x00DF08F9]\n\t(No symbol) [0x00DF0AFB]\n\t(No symbol) [0x00E1F902]\n\t(No symbol) [0x00E0B944]\n\t(No symbol) [0x00E1E01C]\n\t(No symbol) [0x00E0B6F6]\n\t(No symbol) [0x00DE7708]\n\t(No symbol) [0x00DE886D]\n\tGetHandleVerifier [0x01193EAE+2566302]\n\tGetHandleVerifier [0x011C92B1+2784417]\n\tGetHandleVerifier [0x011C327C+2759788]\n\tGetHandleVerifier [0x00FC5740+672048]\n\t(No symbol) [0x00EC8872]\n\t(No symbol) [0x00EC41C8]\n\t(No symbol) [0x00EC42AB]\n\t(No symbol) [0x00EB71B7]\n\tBaseThreadInitThunk [0x764E7D49+25]\n\tRtlInitializeExceptionChain [0x7703B74B+107]\n\tRtlClearBits [0x7703B6CF+191]\n"
     ]
    }
   ],
   "source": [
    "\n",
    "ultimo_cierre = driver.find_element(By.XPATH, '//*[@id=\"__next\"]/div[2]/div/div/div[2]/main/div/div[8]/div/div[2]/dl/div[1]/dd/span/span[1]')\n",
    "ultimo_cierre = ultimo_cierre.text\n",
    "print(\"Último cierre \" + ultimo_cierre)\n",
    "\n",
    "rango_min = driver.find_element(By.XPATH, '//*[@id=\"__next\"]/div[2]/div/div/div[2]/main/div/div[8]/div/div[2]/dl/div[2]/dd/span[1]/span[1]')\n",
    "rango_min = rango_min.text\n",
    "print(\"Mínimo \" + rango_min)\n",
    "\n",
    "rango_max = driver.find_element(By.XPATH, '//*[@id=\"__next\"]/div[2]/div/div/div[2]/main/div/div[8]/div/div[2]/dl/div[2]/dd/span[3]/span[1]')\n",
    "rango_max = rango_max.text\n",
    "print(\"Máximo \" + rango_max)\n",
    "\n",
    "ingresos_T = driver.find_element(By.XPATH, '//*[@id=\"__next\"]/div[2]/div/div/div[2]/main/div/div[7]/div/div[2]/dl/div[3]/dd/span/span[1]')\n",
    "ingresos_T = ingresos_T.text\n",
    "print(\"Ingresos \" + ingresos_T + \"T\")\n",
    "\n",
    "\n",
    "apertura = driver.find_element(By.XPATH, '//*[@id=\"__next\"]/div[2]/div/div/div[2]/main/div/div[8]/div/div[2]/dl/div[4]/dd/span/span[1]')\n",
    "apertura = apertura.text\n",
    "print(\"Apertura \" + apertura)\n",
    "\n",
    "\n"
   ]
  },
  {
   "cell_type": "code",
   "execution_count": null,
   "metadata": {},
   "outputs": [],
   "source": [
    "x = driver.find_element(By.XPATH, '____')\n",
    "x = x.text\n",
    "print(\"x \" + x)"
   ]
  },
  {
   "cell_type": "code",
   "execution_count": null,
   "metadata": {},
   "outputs": [],
   "source": [
    "driver.close()"
   ]
  }
 ],
 "metadata": {
  "kernelspec": {
   "display_name": "Python 3",
   "language": "python",
   "name": "python3"
  },
  "language_info": {
   "codemirror_mode": {
    "name": "ipython",
    "version": 3
   },
   "file_extension": ".py",
   "mimetype": "text/x-python",
   "name": "python",
   "nbconvert_exporter": "python",
   "pygments_lexer": "ipython3",
   "version": "3.11.3"
  }
 },
 "nbformat": 4,
 "nbformat_minor": 4
}
