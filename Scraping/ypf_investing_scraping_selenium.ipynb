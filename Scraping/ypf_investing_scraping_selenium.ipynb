{
 "cells": [
  {
   "attachments": {},
   "cell_type": "markdown",
   "metadata": {},
   "source": [
    "# 26/04/2023"
   ]
  },
  {
   "cell_type": "code",
   "execution_count": 1,
   "metadata": {},
   "outputs": [],
   "source": [
    "from selenium import webdriver\n",
    "from selenium.webdriver.common.by import By\n",
    "from selenium.webdriver.common.keys import Keys\n",
    "from selenium.webdriver.chrome.service import Service\n",
    "from selenium.webdriver.support import expected_conditions as EC\n",
    "import pandas as pd\n",
    "\n",
    "# import mongo client to connect  \n",
    "#from pymongo import MongoClient \n",
    "#import pprint  \n",
    "\n",
    "import datetime"
   ]
  },
  {
   "cell_type": "code",
   "execution_count": 2,
   "metadata": {},
   "outputs": [],
   "source": [
    "#Opciones de navegacion\n",
    "\n",
    "options =  webdriver.ChromeOptions()\n",
    "options.add_argument('--start-maximized')\n",
    "options.add_argument('--disable-extensions')\n",
    "\n",
    "driver_path = Service(\"C:\\\\Users\\\\Tatu\\\\Downloads\\\\chromedriver_win32\\\\chromedriver.exe\")\n",
    "\n",
    "driver = webdriver.Chrome(service = driver_path, options = options)\n"
   ]
  },
  {
   "cell_type": "code",
   "execution_count": 3,
   "metadata": {},
   "outputs": [
    {
     "name": "stdout",
     "output_type": "stream",
     "text": [
      "Acciones YPF | Cotización BA:YPFD hoy - Investing.com\n"
     ]
    }
   ],
   "source": [
    "\n",
    "driver.get('https://es.investing.com/equities/ypf-sociedad')\n",
    "\n",
    "tit=driver.title\n",
    "print(tit)\n",
    "\n",
    "#xpath"
   ]
  },
  {
   "cell_type": "code",
   "execution_count": 7,
   "metadata": {},
   "outputs": [
    {
     "name": "stdout",
     "output_type": "stream",
     "text": [
      "Último cierre 4.768,75\n",
      "Mínimo 4.841\n",
      "Máximo 5.229,9\n",
      "Ingresos 2,53T\n",
      "Apertura 4.841\n",
      "Volumen 322.677\n",
      "Volumen promedio 304.817\n"
     ]
    }
   ],
   "source": [
    "ultimo_cierre = driver.find_element(By.XPATH, '/html/body/div/div[2]/div[2]/div/div[1]/div/div[5]/div[1]/dl[1]/div[1]/dd/span/span[1]')\n",
    "ultimo_cierre = ultimo_cierre.text\n",
    "print(\"Último cierre \" + ultimo_cierre)\n",
    "\n",
    "rango_min = driver.find_element(By.XPATH, '/html/body/div/div[2]/div[2]/div/div[1]/div/div[5]/div[1]/dl[1]/div[3]/dd/span[1]/span[1]')\n",
    "rango_min = rango_min.text\n",
    "print(\"Mínimo \" + rango_min)\n",
    "\n",
    "rango_max = driver.find_element(By.XPATH, '/html/body/div/div[2]/div[2]/div/div[1]/div/div[5]/div[1]/dl[1]/div[3]/dd/span[3]/span[1]')\n",
    "rango_max = rango_max.text\n",
    "print(\"Máximo \" + rango_max)\n",
    "\n",
    "ingresos_T = driver.find_element(By.XPATH, '/html/body/div/div[2]/div[2]/div/div[1]/div/div[5]/div[1]/dl[2]/div[2]/dd/span/span[1]')\n",
    "ingresos_T = ingresos_T.text\n",
    "print(\"Ingresos \" + ingresos_T + \"T\")\n",
    "\n",
    "apertura = driver.find_element(By.XPATH, '/html/body/div/div[2]/div[2]/div/div[1]/div/div[5]/div[1]/dl[1]/div[2]/dd/span/span[1]')\n",
    "apertura = apertura.text\n",
    "print(\"Apertura \" + apertura)\n",
    "\n",
    "\n",
    "volumen = driver.find_element(By.XPATH, '/html/body/div/div[2]/div[2]/div/div[1]/div/div[5]/div[1]/dl[1]/div[5]/dd/span/span[1]')\n",
    "volumen = volumen.text\n",
    "print(\"Volumen \" + volumen)\n",
    "\n",
    "volumen_promedio = driver.find_element(By.XPATH, '/html/body/div/div[2]/div[2]/div/div[1]/div/div[5]/div[1]/dl[1]/div[6]/dd/span/span[1]')\n",
    "volumen_promedio = volumen_promedio.text\n",
    "print(\"Volumen promedio \" + volumen_promedio)"
   ]
  },
  {
   "cell_type": "code",
   "execution_count": 8,
   "metadata": {},
   "outputs": [],
   "source": [
    "driver.close()"
   ]
  }
 ],
 "metadata": {
  "kernelspec": {
   "display_name": "Python 3",
   "language": "python",
   "name": "python3"
  },
  "language_info": {
   "codemirror_mode": {
    "name": "ipython",
    "version": 3
   },
   "file_extension": ".py",
   "mimetype": "text/x-python",
   "name": "python",
   "nbconvert_exporter": "python",
   "pygments_lexer": "ipython3",
   "version": "3.11.3"
  }
 },
 "nbformat": 4,
 "nbformat_minor": 4
}
